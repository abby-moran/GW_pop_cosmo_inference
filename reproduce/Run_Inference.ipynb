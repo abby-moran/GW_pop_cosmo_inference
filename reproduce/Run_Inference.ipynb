{
 "cells": [
  {
   "cell_type": "code",
   "execution_count": 1,
   "id": "09ba4add",
   "metadata": {},
   "outputs": [
    {
     "name": "stderr",
     "output_type": "stream",
     "text": [
      "/mnt/home/amoran/GW_pop_cosmo_inference/reproduce/../src/intensity_models.py:153: SyntaxWarning: invalid escape sequence '\\m'\n",
      "  :math:`m = m_\\mathrm{BH,max}` with relative amplitude `fpl` and slope `c`.\n"
     ]
    }
   ],
   "source": [
    "%load_ext autoreload\n",
    "%autoreload 2\n",
    "\n",
    "ndevice = 4\n",
    "import os\n",
    "import numpyro\n",
    "numpyro.set_host_device_count(ndevice)\n",
    "#import arviz as az\n",
    "from astropy.cosmology import Planck18\n",
    "import astropy.units as u\n",
    "import sys\n",
    "import jax\n",
    "sys.path.append('../src/')\n",
    "import intensity_models\n",
    "import numpy as np\n",
    "from numpyro.infer import MCMC, NUTS, SA\n",
    "import os.path as op\n",
    "import pandas as pd\n",
    "import paths\n",
    "from utils import get_priors_from_file\n",
    "from intensity_models import coords\n",
    "import jax.numpy as jnp\n",
    "import tqdm\n",
    "from scipy.special import logsumexp"
   ]
  },
  {
   "cell_type": "code",
   "execution_count": 2,
   "id": "9e2db08f",
   "metadata": {},
   "outputs": [
    {
     "data": {
      "text/plain": [
       "[CudaDevice(id=0)]"
      ]
     },
     "execution_count": 2,
     "metadata": {},
     "output_type": "execute_result"
    }
   ],
   "source": [
    "jax.local_devices()"
   ]
  },
  {
   "cell_type": "code",
   "execution_count": 3,
   "id": "2fc4a62f",
   "metadata": {},
   "outputs": [],
   "source": [
    "nmcmc = 2000\n",
    "nchain = 1\n",
    "random_seed = 1652819403"
   ]
  },
  {
   "cell_type": "code",
   "execution_count": 4,
   "id": "a639a81a-81eb-4a43-aab9-11fd9123244e",
   "metadata": {},
   "outputs": [
    {
     "name": "stdout",
     "output_type": "stream",
     "text": [
      "['m1', 'q', 'z', 'a1', 'a2', 'cos_tilt_1', 'cos_tilt_2', 'pdraw_m1sqz', 'ndraw', 'dm1sz_dm1ddl']\n"
     ]
    }
   ],
   "source": [
    "sel_samples = pd.read_hdf('../src/selection_samples_o3.h5', 'samples')\n",
    "print(sel_samples.columns.tolist())\n"
   ]
  },
  {
   "cell_type": "code",
   "execution_count": 5,
   "id": "525a7c7d-6576-4e31-b685-31f7fc42be9e",
   "metadata": {},
   "outputs": [
    {
     "name": "stdout",
     "output_type": "stream",
     "text": [
      "array shapes (we want nevents, nsamples):  (583, 200) (583, 200) (583, 200) (583, 200)\n"
     ]
    }
   ],
   "source": [
    "nsamp = 200  # number of posterior draws per event\n",
    "\n",
    "pe_samples_mock = pd.read_hdf('../src/pe_samp_mocko3.hdf5', 'samples')\n",
    "m1s = np.asarray(pe_samples_mock['m1'].to_list()) #detector frame already\n",
    "qs = np.asarray(pe_samples_mock['q'].to_list())\n",
    "dls = np.asarray(pe_samples_mock['dl'].to_list())\n",
    "pdraws = np.asarray(pe_samples_mock['pdraw'].to_list())\n",
    "print(\"array shapes (we want nevents, nsamples): \", m1s.shape, qs.shape, dls.shape, pdraws.shape)"
   ]
  },
  {
   "cell_type": "code",
   "execution_count": null,
   "id": "1caaee66-ca50-4d20-b0ac-7451ef982eeb",
   "metadata": {},
   "outputs": [],
   "source": []
  },
  {
   "cell_type": "code",
   "execution_count": 6,
   "id": "cf13c0f5-68fd-47c0-b7a8-33c0199b496a",
   "metadata": {},
   "outputs": [],
   "source": [
    "prior = get_priors_from_file(\"priors/gwtc3_noevo.prior\")\n",
    "# https://dcc.ligo.org/public/0177/P2100239/009/o3_population.pdf?\n",
    "\n",
    "sel_samples['pdraw_cosmo'] = sel_samples['pdraw_m1sqz'] * sel_samples['dm1sz_dm1ddl']\n",
    "sel_samples['m1d'] = sel_samples['m1']*(1+sel_samples['z']) #source to detector frame\n",
    "sel_samples['dl'] = Planck18.luminosity_distance(sel_samples['z'].to_numpy()).to(u.Gpc).value"
   ]
  },
  {
   "cell_type": "code",
   "execution_count": null,
   "id": "2638ad58-d233-4c0b-8da5-fe20f092c7fe",
   "metadata": {},
   "outputs": [],
   "source": []
  },
  {
   "cell_type": "code",
   "execution_count": 7,
   "id": "3934dc82",
   "metadata": {},
   "outputs": [
    {
     "name": "stderr",
     "output_type": "stream",
     "text": [
      "sample: 100%|██████████| 4000/4000 [05:53<00:00, 11.33it/s, 7 steps of size 3.87e-01. acc. prob=0.91]   \n"
     ]
    }
   ],
   "source": [
    "ndraw = sel_samples['ndraw'].iloc[0]\n",
    "\n",
    "kernel = NUTS(intensity_models.pop_cosmo_model)\n",
    "mcmc = MCMC(kernel, num_warmup=nmcmc, num_samples=nmcmc, num_chains=nchain, progress_bar=True)\n",
    "mcmc.run(jax.random.PRNGKey(random_seed),\n",
    "         m1s, qs, dls, pdraws,\n",
    "         sel_samples['m1d'], sel_samples['q'], sel_samples['dl'], sel_samples['pdraw_cosmo'], ndraw, prior)\n",
    "samples = mcmc.get_samples(group_by_chain=True)  # shape: (nchain, nsamples, ...)\n",
    "np.savez(\"mock_obs_1det_gc.npz\", **samples)"
   ]
  },
  {
   "cell_type": "code",
   "execution_count": null,
   "id": "4d42186d-3e94-4767-ae23-8cebfbfc6b24",
   "metadata": {},
   "outputs": [],
   "source": []
  },
  {
   "cell_type": "code",
   "execution_count": null,
   "id": "cfc6b77c-7fa2-49f2-8444-66968af18b0b",
   "metadata": {},
   "outputs": [],
   "source": []
  }
 ],
 "metadata": {
  "kernelspec": {
   "display_name": "mykernel",
   "language": "python",
   "name": "mykernel"
  },
  "language_info": {
   "codemirror_mode": {
    "name": "ipython",
    "version": 3
   },
   "file_extension": ".py",
   "mimetype": "text/x-python",
   "name": "python",
   "nbconvert_exporter": "python",
   "pygments_lexer": "ipython3",
   "version": "3.13.5"
  }
 },
 "nbformat": 4,
 "nbformat_minor": 5
}
