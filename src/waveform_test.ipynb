{
 "cells": [
  {
   "cell_type": "code",
   "execution_count": 1,
   "id": "68ab864f-fb0f-40bd-abd6-2b0c5d537265",
   "metadata": {},
   "outputs": [
    {
     "name": "stderr",
     "output_type": "stream",
     "text": [
      "/tmp/ipykernel_426064/2168093336.py:3: UserWarning: Wswiglal-redir-stdio:\n",
      "\n",
      "SWIGLAL standard output/error redirection is enabled in IPython.\n",
      "This may lead to performance penalties. To disable locally, use:\n",
      "\n",
      "with lal.no_swig_redirect_standard_output_error():\n",
      "    ...\n",
      "\n",
      "To disable globally, use:\n",
      "\n",
      "lal.swig_redirect_standard_output_error(False)\n",
      "\n",
      "Note however that this will likely lead to error messages from\n",
      "LAL functions being either misdirected or lost when called from\n",
      "Jupyter notebooks.\n",
      "\n",
      "To suppress this warning, use:\n",
      "\n",
      "import warnings\n",
      "warnings.filterwarnings(\"ignore\", \"Wswiglal-redir-stdio\")\n",
      "import lal\n",
      "\n",
      "  import lal\n"
     ]
    },
    {
     "name": "stdout",
     "output_type": "stream",
     "text": [
      "env: XLA_PYTHON_CLIENT_ALLOCATOR=platform\n"
     ]
    },
    {
     "name": "stderr",
     "output_type": "stream",
     "text": [
      "/mnt/home/amoran/miniforge3/envs/GW_all/lib/python3.10/site-packages/tqdm/auto.py:21: TqdmWarning: IProgress not found. Please update jupyter and ipywidgets. See https://ipywidgets.readthedocs.io/en/stable/user_install.html\n",
      "  from .autonotebook import tqdm as notebook_tqdm\n",
      "2025-10-13 10:04:05.192343: W external/xla/xla/service/gpu/nvptx_compiler.cc:836] The NVIDIA driver's CUDA version is 12.4 which is older than the PTX compiler version (12.9.86). Because the driver is older than the PTX compiler version, XLA is disabling parallel compilation, which may slow down compilation. You should update your NVIDIA driver or use the NVIDIA-provided CUDA forward compatibility packages.\n"
     ]
    }
   ],
   "source": [
    "import numpy as np\n",
    "import pandas as pd\n",
    "import lal\n",
    "import lalsimulation as lalsim\n",
    "import jax.numpy as jnp\n",
    "import ripple\n",
    "from astropy.cosmology import Planck18\n",
    "%env XLA_PYTHON_CLIENT_ALLOCATOR=platform\n",
    "import astropy.units as u\n",
    "import warnings\n",
    "warnings.filterwarnings(\"ignore\", \"Wswiglal-redir-stdio\")\n",
    "import lal\n",
    "import lalsimulation as lalsim\n",
    "import numpy as np\n",
    "import os.path as op\n",
    "import sys\n",
    "import pandas as pd\n",
    "import paths\n",
    "import jax.numpy as jnp\n",
    "from tqdm import tqdm, trange\n",
    "import weighting\n",
    "import scipy.integrate as sint\n",
    "import intensity_models\n",
    "import fisher_snrs\n",
    "from ripplegw import waveforms as rip_wf\n",
    "#from fisher_snrs import compute_snrs\n",
    "import mock_injections\n",
    "from mock_injections import *\n",
    "import matplotlib.pyplot as plt\n",
    "from scipy.interpolate import interp1d\n",
    "import warnings\n",
    "warnings.filterwarnings(\"ignore\", \"Wswiglal-redir-stdio\")\n",
    "import jax\n",
    "from importlib import reload "
   ]
  },
  {
   "cell_type": "code",
   "execution_count": 2,
   "id": "028d5156-879e-4c03-866f-6bcf7220e8b1",
   "metadata": {},
   "outputs": [
    {
     "data": {
      "text/plain": [
       "<module 'fisher_snrs' from '/mnt/home/amoran/GW_pop_cosmo_inference/src/fisher_snrs.py'>"
      ]
     },
     "execution_count": 2,
     "metadata": {},
     "output_type": "execute_result"
    }
   ],
   "source": [
    "reload(fisher_snrs)"
   ]
  },
  {
   "cell_type": "code",
   "execution_count": 8,
   "id": "bad345ca-0a67-49c4-8e1f-bbc2b1a031e7",
   "metadata": {},
   "outputs": [
    {
     "name": "stdout",
     "output_type": "stream",
     "text": [
      "Using the following custom population_parameters: {'h': 0.674, 'Om': 0.315, 'w': -1.0, 'a': 1.8, 'b': -0.71, 'c': 2.9, 'mpisn': 31.0, 'mbhmax': 36.0, 'sigma': 0.1, 'fpl': 0.21, 'lam': 3.7, 'kappa': 7.0, 'zp': 3.0, 'mpisndot': 0.0, 'zmax': 1.9, 'mbh_min': 5.0, 'delta_m': 2.5, 'beta': -1.0, 'cosmo': FlatwCDMCosmology(h=0.674, Om=0.315, w=-1.0, zmax=1.9, ninterp=1024, zinterp=Array([0.00000000e+00, 1.04131475e-03, 2.08371384e-03, ...,\n",
      "       1.89396980e+00, 1.89698333e+00, 1.90000000e+00],      dtype=float64), dcinterp=Array([0.00000000e+00, 4.63057878e-03, 9.26369560e-03, ...,\n",
      "       5.15257946e+00, 5.15722323e+00, 5.16186519e+00],      dtype=float64), dlinterp=Array([0.00000000e+00, 4.63540067e-03, 9.28299849e-03, ...,\n",
      "       1.49114093e+01, 1.49403897e+01, 1.49694090e+01],      dtype=float64), ddlinterp=Array([4.44795252, 4.45502339, 4.46209345, ..., 9.61530365,\n",
      "       9.61819823, 9.62109004], dtype=float64), vcinterp=Array([0.00000000e+00, 4.15905286e-07, 3.32997856e-06, ...,\n",
      "       5.73010662e+02, 5.74561340e+02, 5.76114204e+02],      dtype=float64), dvcinterp=Array([0.00000000e+00, 1.19791709e-03, 4.79193041e-03, ...,\n",
      "       5.14476229e+02, 5.14666047e+02, 5.14854548e+02],      dtype=float64))}\n"
     ]
    }
   ],
   "source": [
    "ASD_FILES = {\"CE\": f\"sensitivity_files/LIGO-P1600143-v18-CE-ASD.txt\",\n",
    "            \"aplus\": f\"sensitivity_files/AplusDesign.txt\",\n",
    "            \"aligo\": f\"sensitivity_files/aligo_O4high.txt\",\n",
    "            'o3_PSD': f\"sensitivity_files/H1_o3_PSD.txt\"}\n",
    "population_parameters = dict()\n",
    "config_file = '../reproduce/configs/config2.txt'\n",
    "outfile = 'mock_injections_1det2.h5'\n",
    "\n",
    "population_parameters = dict()\n",
    "\n",
    "with open(config_file) as param_file:\n",
    "    for line in param_file:\n",
    "        (key, val) = line.split('=')\n",
    "        population_parameters[key.strip()] = val.strip()\n",
    "        try:\n",
    "            population_parameters[key.strip()] = float(val.strip())\n",
    "        except ValueError:\n",
    "            pass\n",
    "snr_threshold = population_parameters.pop('snr_threshold')\n",
    "ndraw = int(population_parameters.pop('ndraw', int(2e4)))\n",
    "sensitivity = population_parameters.pop('sensitivity', 'aligo')\n",
    "detectors = population_parameters.pop('detectors', 'H1').split(',')\n",
    "\n",
    "custom_cosmo = intensity_models.FlatwCDMCosmology(population_parameters['h'], population_parameters['Om'], population_parameters['w'], population_parameters['zmax'])\n",
    "population_parameters['cosmo'] = custom_cosmo\n",
    "print(\"Using the following custom population_parameters: \" + str(population_parameters))"
   ]
  },
  {
   "cell_type": "code",
   "execution_count": 4,
   "id": "2a5d221b-c3d4-47b1-ab65-d88b6dd538e1",
   "metadata": {},
   "outputs": [],
   "source": [
    "def compare_all_snrs(test_df, sensitivity='aligo', fmin=20, fmax=1024, f_ref=20.0):\n",
    "    \"\"\"\n",
    "    Compute and compare SNRs for each event using:\n",
    "    (1) JAX IMRPhenomD (already done)\n",
    "    (2) lal IMRPhenomD\n",
    "    (3) Ripple Pv2\n",
    "    (4) lalsim Pv2\n",
    "    Returns: pandas.DataFrame with SNRs for all methods.\n",
    "    \"\"\"\n",
    "\n",
    "    freqs_psd, asd = np.loadtxt(ASD_FILES[sensitivity], unpack=True)\n",
    "    psd_interp = interp1d(freqs_psd, asd**2, bounds_error=False, fill_value=\"extrapolate\")\n",
    "    snrs_jax = fisher_snrs.compute_snrs_batch(test_df, detectors=['H1'], sensitivity=sensitivity,\n",
    "                                  fmin=fmin, fmax=fmax, f_ref=f_ref)\n",
    "    snrs_jax = np.array(snrs_jax) #what we had\n",
    "    \n",
    "    # lalsim phnomD function\n",
    "    def compute_snr_lalsim(m1, m2, z, chi1, chi2, dL_mpc, iota, ra, dec, psi, df, fmin, fmax, f_ref, psd_interp, approximant_str):\n",
    "        approximant = lalsim.SimInspiralGetApproximantFromString(approximant_str)\n",
    "        m1=m1 * (1 + z)\n",
    "        m2=m2 * (1+z)\n",
    "        m1_kg = float(m1) * lal.MSUN_SI\n",
    "        m2_kg = float(m2) * lal.MSUN_SI\n",
    "        distance_m = float(dL_mpc) * 1e6 * lal.PC_SI\n",
    "\n",
    "    \n",
    "        # generate FD waveform (LAL FrequencySeries objects)\n",
    "        hp, hc = lalsim.SimInspiralChooseFDWaveform(m1_kg, m2_kg, float(chi1[0]), float(chi1[1]), float(chi1[2]),\n",
    "            float(chi2[0]), float(chi2[1]), float(chi2[2]), distance_m, float(iota), 0.0, 0.0, 0.0, 0.0, df, fmin, fmax, f_ref, None, approximant)\n",
    "    \n",
    "        if hp is None or hc is None:\n",
    "            raise RuntimeError(\"LALSimulation returned None for hp/hc\")\n",
    "    \n",
    "        # convert LAL FrequencySeries -> numpy arrays (ensure complex dtype)\n",
    "        hp_arr = np.asarray(hp.data.data)\n",
    "        hc_arr = np.asarray(hc.data.data)\n",
    "    \n",
    "        # build frequency axis that matches the waveform sampling\n",
    "        n = hp_arr.size\n",
    "        fs = np.arange(n) * float(df)\n",
    "    \n",
    "        # get detector response (Fp, Fc) and time delay dt\n",
    "        det_obj = lal.cached_detector_by_prefix[\"H1\"]\n",
    "        gmst = lal.GreenwichMeanSiderealTime(0.0) #replace with time or tgeocenter with lalgps time\n",
    "        Fp, Fc = lal.ComputeDetAMResponse(det_obj.response,\n",
    "                                          float(ra), float(dec), float(psi), float(gmst))\n",
    "        dt = lal.TimeDelayFromEarthCenter(det_obj.location, float(ra), float(dec), 0.0)\n",
    "    \n",
    "        # apply antenna pattern and time delay (use numpy arrays)\n",
    "        phase = np.exp(2j * np.pi * fs * float(dt))\n",
    "        h_fd = (float(Fp) * hp_arr + float(Fc) * hc_arr) * phase\n",
    "    \n",
    "        # PSD sampling and integration mask\n",
    "        psd_vals = psd_interp(fs)                  # psd_interp should return numpy array\n",
    "        valid = (fs >= fmin) & (fs <= fmax)\n",
    "    \n",
    "        # guard against non-positive PSD values\n",
    "        psd_valid = np.where(psd_vals[valid] > 0.0, psd_vals[valid], np.inf)\n",
    "    \n",
    "        integrand = (np.abs(h_fd[valid])**2) / psd_valid #make sure abs before vs after doesnt make a difference\n",
    "        snr_sq = 4.0 * np.trapz(integrand, fs[valid])\n",
    "        return float(np.sqrt(snr_sq))\n",
    "\n",
    "\n",
    "    # lal phenomD\n",
    "    snrs_lalsim_D = []\n",
    "    for _, row in test_df.iterrows():\n",
    "        chi1 = [row.s1x, row.s1y, row.s1z]\n",
    "        chi2 = [row.s2x, row.s2y, row.s2z]\n",
    "        \n",
    "        snr = compute_snr_lalsim(row.m1, row.m1*row.q, row.z, chi1, chi2, row.dL*1e3, row.iota, row.ra, row.dec,row.psi, 0.25, fmin, fmax, f_ref, psd_interp, \"IMRPhenomD\")\n",
    "        snrs_lalsim_D.append(snr)\n",
    "\n",
    "    # lalsim Pv2\n",
    "    snrs_lalsim_Pv2 = []\n",
    "    for _, row in test_df.iterrows():\n",
    "        chi1 = [row.s1x, row.s1y, row.s1z]\n",
    "        chi2 = [row.s2x, row.s2y, row.s2z]\n",
    "        snr = compute_snr_lalsim(row.m1, row.m1*row.q,row.z, chi1, chi2, row.dL*1e3, row.iota, row.ra, row.dec,row.psi,  0.25, fmin, fmax, f_ref, psd_interp, \"IMRPhenomPv2\")\n",
    "        snrs_lalsim_Pv2.append(snr)\n",
    "\n",
    "    \n",
    "    results = pd.DataFrame({\"Event\": np.arange(len(test_df)), \"SNR ripple phenomD\": snrs_jax, \"SNR lal phenomD\": snrs_lalsim_D,\n",
    "       # \"SNR_Ripple_IMRPhenomPv2\": snrs_ripple_Pv2,\n",
    "                            \"SNR lal Pv2\": snrs_lalsim_Pv2})\n",
    "\n",
    "    return results\n"
   ]
  },
  {
   "cell_type": "code",
   "execution_count": 33,
   "id": "8120a9cf-2a91-417d-b8c0-5243f0f49ed2",
   "metadata": {},
   "outputs": [],
   "source": [
    "nevents = 10\n",
    "z=np.linspace(0.1, 1.8, nevents)\n",
    "\n",
    "test_df = pd.DataFrame({\n",
    "    \"m1\": np.linspace(10, 40, nevents)[-1], #source frame masses\n",
    "    \"q\": np.linspace(0.5, 1.0, nevents),\n",
    "    \"z\": z,\n",
    "    \"s1x\": np.zeros(nevents),\n",
    "    \"s1y\": np.zeros(nevents),\n",
    "    \"s1z\": np.linspace(0, 1, nevents),\n",
    "    \"s2x\": np.zeros(nevents),\n",
    "    \"s2y\": np.zeros(nevents),\n",
    "    \"s2z\": np.linspace(0, 1, nevents),\n",
    "    \"gps_time\": np.zeros(nevents),\n",
    "    \"dL\": population_parameters['cosmo'].dL(z), # dL in Gpc ,\n",
    "    \"iota\": np.linspace(0, np.pi/2, nevents),\n",
    "    \"psi\": np.zeros(nevents),\n",
    "    \"ra\": np.linspace(0, 2*np.pi, nevents),\n",
    "    \"dec\": np.linspace(-np.pi/4, np.pi/4, nevents) })\n",
    "\n",
    "# m1, m2, s1x, s1y, s1z, s2x, s2y, s2z, dist_mpc, tc, phiRef, incl = theta"
   ]
  },
  {
   "cell_type": "code",
   "execution_count": 34,
   "id": "ae82926d-aa8f-4321-80d4-1ccce775af1d",
   "metadata": {},
   "outputs": [
    {
     "data": {
      "text/plain": [
       "<module 'fisher_snrs' from '/mnt/home/amoran/GW_pop_cosmo_inference/src/fisher_snrs.py'>"
      ]
     },
     "execution_count": 34,
     "metadata": {},
     "output_type": "execute_result"
    }
   ],
   "source": [
    "reload(fisher_snrs)"
   ]
  },
  {
   "cell_type": "code",
   "execution_count": 35,
   "id": "4d9ac875-1d22-408f-b58a-2890976b05c1",
   "metadata": {},
   "outputs": [
    {
     "name": "stderr",
     "output_type": "stream",
     "text": [
      "/tmp/ipykernel_426064/685247420.py:61: DeprecationWarning: `trapz` is deprecated. Use `trapezoid` instead, or one of the numerical integration functions in `scipy.integrate`.\n",
      "  snr_sq = 4.0 * np.trapz(integrand, fs[valid])\n"
     ]
    }
   ],
   "source": [
    "SNR_comp=compare_all_snrs(test_df)"
   ]
  },
  {
   "cell_type": "code",
   "execution_count": 36,
   "id": "87f09cba-cbf5-49f6-95c4-f4aa155f037b",
   "metadata": {},
   "outputs": [
    {
     "data": {
      "text/html": [
       "<div>\n",
       "<style scoped>\n",
       "    .dataframe tbody tr th:only-of-type {\n",
       "        vertical-align: middle;\n",
       "    }\n",
       "\n",
       "    .dataframe tbody tr th {\n",
       "        vertical-align: top;\n",
       "    }\n",
       "\n",
       "    .dataframe thead th {\n",
       "        text-align: right;\n",
       "    }\n",
       "</style>\n",
       "<table border=\"1\" class=\"dataframe\">\n",
       "  <thead>\n",
       "    <tr style=\"text-align: right;\">\n",
       "      <th></th>\n",
       "      <th>Event</th>\n",
       "      <th>SNR ripple phenomD</th>\n",
       "      <th>SNR lal phenomD</th>\n",
       "      <th>SNR lal Pv2</th>\n",
       "    </tr>\n",
       "  </thead>\n",
       "  <tbody>\n",
       "    <tr>\n",
       "      <th>0</th>\n",
       "      <td>0</td>\n",
       "      <td>23.072448</td>\n",
       "      <td>23.069730</td>\n",
       "      <td>23.069730</td>\n",
       "    </tr>\n",
       "    <tr>\n",
       "      <th>1</th>\n",
       "      <td>1</td>\n",
       "      <td>13.542067</td>\n",
       "      <td>13.540568</td>\n",
       "      <td>13.540568</td>\n",
       "    </tr>\n",
       "    <tr>\n",
       "      <th>2</th>\n",
       "      <td>2</td>\n",
       "      <td>6.455231</td>\n",
       "      <td>6.454559</td>\n",
       "      <td>6.454559</td>\n",
       "    </tr>\n",
       "    <tr>\n",
       "      <th>3</th>\n",
       "      <td>3</td>\n",
       "      <td>9.071163</td>\n",
       "      <td>9.070274</td>\n",
       "      <td>9.070274</td>\n",
       "    </tr>\n",
       "    <tr>\n",
       "      <th>4</th>\n",
       "      <td>4</td>\n",
       "      <td>7.316305</td>\n",
       "      <td>7.315625</td>\n",
       "      <td>7.315625</td>\n",
       "    </tr>\n",
       "    <tr>\n",
       "      <th>5</th>\n",
       "      <td>5</td>\n",
       "      <td>4.864890</td>\n",
       "      <td>4.864458</td>\n",
       "      <td>4.864458</td>\n",
       "    </tr>\n",
       "    <tr>\n",
       "      <th>6</th>\n",
       "      <td>6</td>\n",
       "      <td>1.136815</td>\n",
       "      <td>1.136719</td>\n",
       "      <td>1.136719</td>\n",
       "    </tr>\n",
       "    <tr>\n",
       "      <th>7</th>\n",
       "      <td>7</td>\n",
       "      <td>3.136275</td>\n",
       "      <td>3.136020</td>\n",
       "      <td>3.136020</td>\n",
       "    </tr>\n",
       "    <tr>\n",
       "      <th>8</th>\n",
       "      <td>8</td>\n",
       "      <td>2.067086</td>\n",
       "      <td>2.066926</td>\n",
       "      <td>2.066926</td>\n",
       "    </tr>\n",
       "    <tr>\n",
       "      <th>9</th>\n",
       "      <td>9</td>\n",
       "      <td>3.199619</td>\n",
       "      <td>3.199386</td>\n",
       "      <td>3.199386</td>\n",
       "    </tr>\n",
       "  </tbody>\n",
       "</table>\n",
       "</div>"
      ],
      "text/plain": [
       "   Event  SNR ripple phenomD  SNR lal phenomD  SNR lal Pv2\n",
       "0      0           23.072448        23.069730    23.069730\n",
       "1      1           13.542067        13.540568    13.540568\n",
       "2      2            6.455231         6.454559     6.454559\n",
       "3      3            9.071163         9.070274     9.070274\n",
       "4      4            7.316305         7.315625     7.315625\n",
       "5      5            4.864890         4.864458     4.864458\n",
       "6      6            1.136815         1.136719     1.136719\n",
       "7      7            3.136275         3.136020     3.136020\n",
       "8      8            2.067086         2.066926     2.066926\n",
       "9      9            3.199619         3.199386     3.199386"
      ]
     },
     "execution_count": 36,
     "metadata": {},
     "output_type": "execute_result"
    }
   ],
   "source": [
    "SNR_comp"
   ]
  },
  {
   "cell_type": "code",
   "execution_count": null,
   "id": "b9e12cfb-deec-4fc8-adc7-9c9c49cfb169",
   "metadata": {},
   "outputs": [],
   "source": []
  }
 ],
 "metadata": {
  "kernelspec": {
   "display_name": "GW_All",
   "language": "python",
   "name": "gw_all"
  },
  "language_info": {
   "codemirror_mode": {
    "name": "ipython",
    "version": 3
   },
   "file_extension": ".py",
   "mimetype": "text/x-python",
   "name": "python",
   "nbconvert_exporter": "python",
   "pygments_lexer": "ipython3",
   "version": "3.10.18"
  }
 },
 "nbformat": 4,
 "nbformat_minor": 5
}
